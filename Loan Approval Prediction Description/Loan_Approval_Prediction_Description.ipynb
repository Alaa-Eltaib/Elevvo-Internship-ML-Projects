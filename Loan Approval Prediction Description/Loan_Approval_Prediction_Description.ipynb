{
  "nbformat": 4,
  "nbformat_minor": 0,
  "metadata": {
    "colab": {
      "provenance": [],
      "gpuType": "T4"
    },
    "kernelspec": {
      "name": "python3",
      "display_name": "Python 3"
    },
    "language_info": {
      "name": "python"
    },
    "accelerator": "GPU"
  },
  "cells": [
    {
      "cell_type": "markdown",
      "source": [
        "**Import Libraries**"
      ],
      "metadata": {
        "id": "fSs1qgTaIz2l"
      }
    },
    {
      "cell_type": "code",
      "source": [
        "import os\n",
        "import pandas as pd\n",
        "import numpy as np\n",
        "import matplotlib.pyplot as plt\n",
        "import seaborn as sns\n",
        "\n",
        "from sklearn.model_selection import train_test_split, StratifiedKFold, cross_val_predict\n",
        "from sklearn.pipeline import Pipeline\n",
        "from sklearn.compose import ColumnTransformer\n",
        "from sklearn.preprocessing import StandardScaler, OneHotEncoder\n",
        "from sklearn.impute import SimpleImputer\n",
        "from sklearn.linear_model import LogisticRegression\n",
        "from sklearn.tree import DecisionTreeClassifier\n",
        "from sklearn.ensemble import RandomForestClassifier\n",
        "from xgboost import XGBClassifier\n",
        "from sklearn.metrics import (\n",
        "    classification_report, confusion_matrix,\n",
        "    precision_score, recall_score, f1_score,\n",
        "    precision_recall_curve, average_precision_score\n",
        ")\n",
        "\n",
        "from imblearn.over_sampling import SMOTE\n",
        "from imblearn.pipeline import Pipeline as ImbPipeline"
      ],
      "metadata": {
        "id": "iwEZjP8s4yaT"
      },
      "execution_count": 1,
      "outputs": []
    },
    {
      "cell_type": "markdown",
      "source": [
        "**Download and Load Dataset**"
      ],
      "metadata": {
        "id": "7xD_Z_cbI8-n"
      }
    },
    {
      "cell_type": "code",
      "execution_count": 2,
      "metadata": {
        "colab": {
          "base_uri": "https://localhost:8080/"
        },
        "id": "DTXO-0Vj24ye",
        "outputId": "aa32e375-c771-4524-900e-1705ec9e7d0d"
      },
      "outputs": [
        {
          "output_type": "stream",
          "name": "stdout",
          "text": [
            "Downloading from https://www.kaggle.com/api/v1/datasets/download/architsharma01/loan-approval-prediction-dataset?dataset_version_number=1...\n"
          ]
        },
        {
          "output_type": "stream",
          "name": "stderr",
          "text": [
            "100%|██████████| 80.6k/80.6k [00:00<00:00, 366kB/s]"
          ]
        },
        {
          "output_type": "stream",
          "name": "stdout",
          "text": [
            "Extracting files...\n",
            "Path to dataset files: /root/.cache/kagglehub/datasets/architsharma01/loan-approval-prediction-dataset/versions/1\n"
          ]
        },
        {
          "output_type": "stream",
          "name": "stderr",
          "text": [
            "\n"
          ]
        }
      ],
      "source": [
        "import kagglehub\n",
        "\n",
        "# Download latest version\n",
        "path = kagglehub.dataset_download(\"architsharma01/loan-approval-prediction-dataset\")\n",
        "\n",
        "print(\"Path to dataset files:\", path)"
      ]
    },
    {
      "cell_type": "code",
      "source": [
        "file_path = os.path.join(path, \"loan_approval_dataset.csv\")\n",
        "\n",
        "\n",
        "df = pd.read_csv(file_path)\n",
        "\n",
        "print(\"data shape\", df.shape)\n",
        "print(df.head())"
      ],
      "metadata": {
        "colab": {
          "base_uri": "https://localhost:8080/"
        },
        "id": "6uRCi5wy43Bk",
        "outputId": "f7eb3b13-b814-4fdd-f552-3633821d2d79"
      },
      "execution_count": 3,
      "outputs": [
        {
          "output_type": "stream",
          "name": "stdout",
          "text": [
            "data shape (4269, 13)\n",
            "   loan_id   no_of_dependents      education  self_employed   income_annum  \\\n",
            "0        1                  2       Graduate             No        9600000   \n",
            "1        2                  0   Not Graduate            Yes        4100000   \n",
            "2        3                  3       Graduate             No        9100000   \n",
            "3        4                  3       Graduate             No        8200000   \n",
            "4        5                  5   Not Graduate            Yes        9800000   \n",
            "\n",
            "    loan_amount   loan_term   cibil_score   residential_assets_value  \\\n",
            "0      29900000          12           778                    2400000   \n",
            "1      12200000           8           417                    2700000   \n",
            "2      29700000          20           506                    7100000   \n",
            "3      30700000           8           467                   18200000   \n",
            "4      24200000          20           382                   12400000   \n",
            "\n",
            "    commercial_assets_value   luxury_assets_value   bank_asset_value  \\\n",
            "0                  17600000              22700000            8000000   \n",
            "1                   2200000               8800000            3300000   \n",
            "2                   4500000              33300000           12800000   \n",
            "3                   3300000              23300000            7900000   \n",
            "4                   8200000              29400000            5000000   \n",
            "\n",
            "   loan_status  \n",
            "0     Approved  \n",
            "1     Rejected  \n",
            "2     Rejected  \n",
            "3     Rejected  \n",
            "4     Rejected  \n"
          ]
        }
      ]
    },
    {
      "cell_type": "code",
      "source": [
        "print(df.info())\n"
      ],
      "metadata": {
        "colab": {
          "base_uri": "https://localhost:8080/"
        },
        "id": "xr54-IG45EtE",
        "outputId": "fbf33984-cdc8-48ec-9c74-2b387e7786cb"
      },
      "execution_count": 4,
      "outputs": [
        {
          "output_type": "stream",
          "name": "stdout",
          "text": [
            "<class 'pandas.core.frame.DataFrame'>\n",
            "RangeIndex: 4269 entries, 0 to 4268\n",
            "Data columns (total 13 columns):\n",
            " #   Column                     Non-Null Count  Dtype \n",
            "---  ------                     --------------  ----- \n",
            " 0   loan_id                    4269 non-null   int64 \n",
            " 1    no_of_dependents          4269 non-null   int64 \n",
            " 2    education                 4269 non-null   object\n",
            " 3    self_employed             4269 non-null   object\n",
            " 4    income_annum              4269 non-null   int64 \n",
            " 5    loan_amount               4269 non-null   int64 \n",
            " 6    loan_term                 4269 non-null   int64 \n",
            " 7    cibil_score               4269 non-null   int64 \n",
            " 8    residential_assets_value  4269 non-null   int64 \n",
            " 9    commercial_assets_value   4269 non-null   int64 \n",
            " 10   luxury_assets_value       4269 non-null   int64 \n",
            " 11   bank_asset_value          4269 non-null   int64 \n",
            " 12   loan_status               4269 non-null   object\n",
            "dtypes: int64(10), object(3)\n",
            "memory usage: 433.7+ KB\n",
            "None\n"
          ]
        }
      ]
    },
    {
      "cell_type": "code",
      "source": [
        "print(df.columns.tolist())"
      ],
      "metadata": {
        "colab": {
          "base_uri": "https://localhost:8080/"
        },
        "id": "JgmAkLceCOyl",
        "outputId": "02e67540-9af9-4eaa-9022-7ad4d0601583"
      },
      "execution_count": 5,
      "outputs": [
        {
          "output_type": "stream",
          "name": "stdout",
          "text": [
            "['loan_id', ' no_of_dependents', ' education', ' self_employed', ' income_annum', ' loan_amount', ' loan_term', ' cibil_score', ' residential_assets_value', ' commercial_assets_value', ' luxury_assets_value', ' bank_asset_value', ' loan_status']\n"
          ]
        }
      ]
    },
    {
      "cell_type": "markdown",
      "source": [
        "## Clean Column"
      ],
      "metadata": {
        "id": "GFvi3WKVJETP"
      }
    },
    {
      "cell_type": "code",
      "source": [
        "df.columns = df.columns.str.strip()\n",
        "\n",
        "print(df.columns.tolist())\n"
      ],
      "metadata": {
        "colab": {
          "base_uri": "https://localhost:8080/"
        },
        "id": "eN43Xqn6CXiP",
        "outputId": "6953bf0b-9570-490e-a1de-d72bc68c39d0"
      },
      "execution_count": 6,
      "outputs": [
        {
          "output_type": "stream",
          "name": "stdout",
          "text": [
            "['loan_id', 'no_of_dependents', 'education', 'self_employed', 'income_annum', 'loan_amount', 'loan_term', 'cibil_score', 'residential_assets_value', 'commercial_assets_value', 'luxury_assets_value', 'bank_asset_value', 'loan_status']\n"
          ]
        }
      ]
    },
    {
      "cell_type": "code",
      "source": [
        "print(df[\"loan_status\"].unique())\n"
      ],
      "metadata": {
        "colab": {
          "base_uri": "https://localhost:8080/"
        },
        "id": "MFns2BfdBxRF",
        "outputId": "df91f3f8-b5c0-46ce-c2da-7f8802182dcd"
      },
      "execution_count": 7,
      "outputs": [
        {
          "output_type": "stream",
          "name": "stdout",
          "text": [
            "[' Approved' ' Rejected']\n"
          ]
        }
      ]
    },
    {
      "cell_type": "code",
      "source": [
        "target_col = \"loan_status\"\n",
        "\n",
        "\n",
        "df[target_col] = df[target_col].str.strip().str.lower()\n",
        "\n",
        "print(df[target_col].unique())\n",
        "\n",
        "\n",
        "df[target_col] = df[target_col].map({\n",
        "    \"approved\": 1,\n",
        "    \"rejected\": 0\n",
        "}).astype(int)\n",
        "\n",
        "y = df[target_col]\n",
        "X = df.drop(columns=[target_col, \"loan_id\"])\n"
      ],
      "metadata": {
        "colab": {
          "base_uri": "https://localhost:8080/"
        },
        "id": "zQ-YKmx_C2pz",
        "outputId": "49ee64b4-2e83-4d76-d7d3-93431a0c0d38"
      },
      "execution_count": 8,
      "outputs": [
        {
          "output_type": "stream",
          "name": "stdout",
          "text": [
            "['approved' 'rejected']\n"
          ]
        }
      ]
    },
    {
      "cell_type": "code",
      "source": [
        "cat_cols = X.select_dtypes(include=[\"object\"]).columns.tolist()\n",
        "num_cols = X.select_dtypes(include=[np.number]).columns.tolist()\n",
        "\n",
        "print(\" Numeric columns:\", num_cols)\n",
        "print(\" Categorical columns:\", cat_cols)\n"
      ],
      "metadata": {
        "colab": {
          "base_uri": "https://localhost:8080/"
        },
        "id": "iHtWSxNiE9FM",
        "outputId": "13f22173-8278-44b2-a971-431f29646d47"
      },
      "execution_count": 9,
      "outputs": [
        {
          "output_type": "stream",
          "name": "stdout",
          "text": [
            " Numeric columns: ['no_of_dependents', 'income_annum', 'loan_amount', 'loan_term', 'cibil_score', 'residential_assets_value', 'commercial_assets_value', 'luxury_assets_value', 'bank_asset_value']\n",
            " Categorical columns: ['education', 'self_employed']\n"
          ]
        }
      ]
    },
    {
      "cell_type": "markdown",
      "source": [
        "## Preprocessing Pipelines"
      ],
      "metadata": {
        "id": "KZVV6BAOJtCQ"
      }
    },
    {
      "cell_type": "code",
      "source": [
        "num_pipeline = Pipeline([\n",
        "    (\"imputer\", SimpleImputer(strategy=\"median\")),\n",
        "    (\"scaler\", StandardScaler())\n",
        "])\n",
        "\n",
        "cat_pipeline = Pipeline([\n",
        "    (\"imputer\", SimpleImputer(strategy=\"most_frequent\")),\n",
        "    (\"onehot\", OneHotEncoder(handle_unknown=\"ignore\", sparse_output=False))\n",
        "])\n",
        "\n",
        "\n",
        "preprocessor = ColumnTransformer([\n",
        "    (\"num\", num_pipeline, num_cols),\n",
        "    (\"cat\", cat_pipeline, cat_cols)\n",
        "])\n"
      ],
      "metadata": {
        "id": "Y51Zx7vqE_jU"
      },
      "execution_count": 10,
      "outputs": []
    },
    {
      "cell_type": "markdown",
      "source": [
        "## Train-Test Split\n"
      ],
      "metadata": {
        "id": "KY2FReffJvPJ"
      }
    },
    {
      "cell_type": "code",
      "source": [
        "X_train, X_test, y_train, y_test = train_test_split(\n",
        "    X, y, test_size=0.2, stratify=y, random_state=42\n",
        ")\n",
        "\n",
        "print(\"Train size:\", X_train.shape, \" Test size:\", X_test.shape)"
      ],
      "metadata": {
        "colab": {
          "base_uri": "https://localhost:8080/"
        },
        "id": "_nZA7DGhF3R6",
        "outputId": "b6096ec1-adfa-4951-e835-3979612c168a"
      },
      "execution_count": 14,
      "outputs": [
        {
          "output_type": "stream",
          "name": "stdout",
          "text": [
            "Train size: (3415, 11)  Test size: (854, 11)\n"
          ]
        }
      ]
    },
    {
      "cell_type": "markdown",
      "source": [
        "## Define Models"
      ],
      "metadata": {
        "id": "fLhEVv6sJ4AO"
      }
    },
    {
      "cell_type": "code",
      "source": [
        "models = {\n",
        "    \"Logistic Regression\": Pipeline([\n",
        "        (\"preproc\", preprocessor),\n",
        "        (\"clf\", LogisticRegression(max_iter=1000, class_weight=\"balanced\", random_state=42))\n",
        "    ]),\n",
        "    \"Decision Tree\": Pipeline([\n",
        "        (\"preproc\", preprocessor),\n",
        "        (\"clf\", DecisionTreeClassifier(class_weight=\"balanced\", random_state=42))\n",
        "    ]),\n",
        "    \"Logistic + SMOTE\": ImbPipeline([\n",
        "        (\"preproc\", preprocessor),\n",
        "        (\"smote\", SMOTE(random_state=42)),\n",
        "        (\"clf\", LogisticRegression(max_iter=1000, random_state=42))\n",
        "    ]),\n",
        "    \"Random Forest\": Pipeline([\n",
        "        (\"preproc\", preprocessor),\n",
        "        (\"clf\", RandomForestClassifier(class_weight=\"balanced\", random_state=42))\n",
        "    ]),\n",
        "    \"XGBoost\": Pipeline([\n",
        "        (\"preproc\", preprocessor),\n",
        "        (\"clf\", XGBClassifier(eval_metric=\"logloss\", use_label_encoder=False, random_state=42))\n",
        "    ])\n",
        "}"
      ],
      "metadata": {
        "id": "80T0gfi9F7QE"
      },
      "execution_count": 12,
      "outputs": []
    },
    {
      "cell_type": "markdown",
      "source": [
        "## Train Models and Create Comparison Table"
      ],
      "metadata": {
        "id": "6ySYfzIVJ9MZ"
      }
    },
    {
      "cell_type": "code",
      "source": [
        "# List of models\n",
        "model_list = [\n",
        "    (\"Logistic Regression\", models[\"Logistic Regression\"]),\n",
        "    (\"Decision Tree\", models[\"Decision Tree\"]),\n",
        "    (\"Logistic + SMOTE\", models[\"Logistic + SMOTE\"]),\n",
        "    (\"Random Forest\", models[\"Random Forest\"]),\n",
        "    (\"XGBoost\", models[\"XGBoost\"])\n",
        "]\n",
        "\n",
        "# DataFrame to store results\n",
        "results = pd.DataFrame(columns=[\"Model\", \"Precision\", \"Recall\", \"F1-score\"])\n",
        "\n",
        "for name, model in model_list:\n",
        "    model.fit(X_train, y_train)\n",
        "    y_pred = model.predict(X_test)\n",
        "\n",
        "    precision = precision_score(y_test, y_pred)\n",
        "    recall = recall_score(y_test, y_pred)\n",
        "    f1 = f1_score(y_test, y_pred)\n",
        "\n",
        "    results = pd.concat([results, pd.DataFrame({\n",
        "        \"Model\": [name],\n",
        "        \"Precision\": [precision],\n",
        "        \"Recall\": [recall],\n",
        "        \"F1-score\": [f1]\n",
        "    })], ignore_index=True)\n",
        "\n",
        "# Sort table by F1-score\n",
        "results = results.sort_values(by=\"F1-score\", ascending=False).reset_index(drop=True)\n",
        "print(\"Model Comparison Table:\")\n",
        "print(results)\n"
      ],
      "metadata": {
        "colab": {
          "base_uri": "https://localhost:8080/"
        },
        "id": "3Bz4ylPiHBHz",
        "outputId": "e45b724c-86a6-4952-e284-2e0aeea4f86f"
      },
      "execution_count": 13,
      "outputs": [
        {
          "output_type": "stream",
          "name": "stderr",
          "text": [
            "/tmp/ipython-input-975983929.py:21: FutureWarning: The behavior of DataFrame concatenation with empty or all-NA entries is deprecated. In a future version, this will no longer exclude empty or all-NA columns when determining the result dtypes. To retain the old behavior, exclude the relevant entries before the concat operation.\n",
            "  results = pd.concat([results, pd.DataFrame({\n"
          ]
        },
        {
          "output_type": "stream",
          "name": "stdout",
          "text": [
            "Model Comparison Table:\n",
            "                 Model  Precision    Recall  F1-score\n",
            "0        Random Forest   0.984962  0.986817  0.985889\n",
            "1              XGBoost   0.981273  0.986817  0.984038\n",
            "2        Decision Tree   0.977612  0.986817  0.982193\n",
            "3  Logistic Regression   0.955078  0.920904  0.937680\n",
            "4     Logistic + SMOTE   0.951456  0.922787  0.936902\n"
          ]
        },
        {
          "output_type": "stream",
          "name": "stderr",
          "text": [
            "/usr/local/lib/python3.12/dist-packages/xgboost/training.py:183: UserWarning: [22:35:07] WARNING: /workspace/src/learner.cc:738: \n",
            "Parameters: { \"use_label_encoder\" } are not used.\n",
            "\n",
            "  bst.update(dtrain, iteration=i, fobj=obj)\n"
          ]
        }
      ]
    }
  ]
}